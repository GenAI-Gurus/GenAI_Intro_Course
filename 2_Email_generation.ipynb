{
  "nbformat": 4,
  "nbformat_minor": 0,
  "metadata": {
    "colab": {
      "provenance": []
    },
    "kernelspec": {
      "name": "python3",
      "display_name": "Python 3"
    },
    "language_info": {
      "name": "python"
    }
  },
  "cells": [
    {
      "cell_type": "code",
      "source": [
        "!pip install python-dotenv\n",
        "!pip install openai==0.28"
      ],
      "metadata": {
        "id": "_Mci0JWnTFrg"
      },
      "execution_count": null,
      "outputs": []
    },
    {
      "cell_type": "code",
      "source": [
        "import os\n",
        "import openai"
      ],
      "metadata": {
        "id": "kn4UVt18THDZ"
      },
      "execution_count": null,
      "outputs": []
    },
    {
      "cell_type": "code",
      "source": [
        "openai.api_key = 'your key'\n",
        "os.environ['OPENAI_API_KEY'] = openai.api_key"
      ],
      "metadata": {
        "id": "4Gr27apo7ZgP"
      },
      "execution_count": null,
      "outputs": []
    },
    {
      "cell_type": "code",
      "source": [
        "from dotenv import load_dotenv, find_dotenv\n",
        "_ = load_dotenv(find_dotenv())\n",
        "openai.api_key = os.environ['OPENAI_API_KEY']"
      ],
      "metadata": {
        "id": "fzL4Vkk77bBt"
      },
      "execution_count": null,
      "outputs": []
    },
    {
      "cell_type": "code",
      "source": [
        "Email_generation = openai.Completion.create(\n",
        "  model=\"text-davinci-003\",\n",
        "  prompt=\"\"\"\n",
        "#write an email to your class teacher asking for a leave of 2 days with my signature\n",
        "  \"\"\",\n",
        "  max_tokens=100,\n",
        "  temperature=.66\n",
        ")\n",
        "print(str(Email_generation[\"choices\"][0][\"text\"]))"
      ],
      "metadata": {
        "colab": {
          "base_uri": "https://localhost:8080/"
        },
        "id": "Yvb3rxjfEV4G",
        "outputId": "9e728357-7be1-4002-bd39-20d76bd775e7"
      },
      "execution_count": null,
      "outputs": [
        {
          "output_type": "stream",
          "name": "stdout",
          "text": [
            "\n",
            "Subject: Request for Leave \n",
            "\n",
            "Dear [Teacher Name],\n",
            "\n",
            "I am writing to request a leave of absence for two days. \n",
            "\n",
            "The reason for my leave is [state the reason here].\n",
            "\n",
            "I would be grateful if you could approve my leave for the mentioned period.\n",
            "\n",
            "Thank you for your consideration.\n",
            "\n",
            "Sincerely,\n",
            "[Your Name]\n"
          ]
        }
      ]
    }
  ]
}